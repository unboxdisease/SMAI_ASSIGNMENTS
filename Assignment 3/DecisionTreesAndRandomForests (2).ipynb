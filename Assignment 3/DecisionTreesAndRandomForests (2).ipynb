{
 "cells": [
  {
   "cell_type": "markdown",
   "metadata": {
    "id": "Q0_wToNFHMN3"
   },
   "source": [
    "# **Decision Trees**\n",
    "\n",
    "The Wisconsin Breast Cancer Dataset(WBCD) can be found here(https://archive.ics.uci.edu/ml/machine-learning-databases/breast-cancer-wisconsin/breast-cancer-wisconsin.data)\n",
    "\n",
    "This dataset describes the characteristics of the cell nuclei of various patients with and without breast cancer. The task is to classify a decision tree to predict if a patient has a benign or a malignant tumour based on these features.\n",
    "\n",
    "Attribute Information:\n",
    "```\n",
    "#  Attribute                     Domain\n",
    "   -- -----------------------------------------\n",
    "   1. Sample code number            id number\n",
    "   2. Clump Thickness               1 - 10\n",
    "   3. Uniformity of Cell Size       1 - 10\n",
    "   4. Uniformity of Cell Shape      1 - 10\n",
    "   5. Marginal Adhesion             1 - 10\n",
    "   6. Single Epithelial Cell Size   1 - 10\n",
    "   7. Bare Nuclei                   1 - 10\n",
    "   8. Bland Chromatin               1 - 10\n",
    "   9. Normal Nucleoli               1 - 10\n",
    "  10. Mitoses                       1 - 10\n",
    "  11. Class:                        (2 for benign, 4 for malignant)\n",
    "```"
   ]
  },
  {
   "cell_type": "code",
   "execution_count": 1,
   "metadata": {
    "executionInfo": {
     "elapsed": 520,
     "status": "ok",
     "timestamp": 1638633095456,
     "user": {
      "displayName": "Rutvij Menavlikar",
      "photoUrl": "https://lh3.googleusercontent.com/a-/AOh14GjO2RSiL3jz2Zq0vBys8gaL7l3a2C6KDAdeCoTIpA=s64",
      "userId": "00271061997226666130"
     },
     "user_tz": -330
    },
    "id": "wl4n4iDB_tZc"
   },
   "outputs": [],
   "source": [
    "import pandas as pd\n",
    "from sklearn.model_selection import train_test_split\n",
    "from sklearn.tree import DecisionTreeClassifier\n",
    "from sklearn.metrics import accuracy_score\n",
    "import numpy as np\n",
    "import matplotlib.pyplot as plt"
   ]
  },
  {
   "cell_type": "code",
   "execution_count": 2,
   "metadata": {
    "colab": {
     "base_uri": "https://localhost:8080/",
     "height": 513
    },
    "executionInfo": {
     "elapsed": 59,
     "status": "ok",
     "timestamp": 1638633095978,
     "user": {
      "displayName": "Rutvij Menavlikar",
      "photoUrl": "https://lh3.googleusercontent.com/a-/AOh14GjO2RSiL3jz2Zq0vBys8gaL7l3a2C6KDAdeCoTIpA=s64",
      "userId": "00271061997226666130"
     },
     "user_tz": -330
    },
    "id": "qYdlWpUVHMOB",
    "outputId": "cf221cb5-7996-4191-aa12-30f11ad6afb1"
   },
   "outputs": [
    {
     "data": {
      "text/html": [
       "<div>\n",
       "<style scoped>\n",
       "    .dataframe tbody tr th:only-of-type {\n",
       "        vertical-align: middle;\n",
       "    }\n",
       "\n",
       "    .dataframe tbody tr th {\n",
       "        vertical-align: top;\n",
       "    }\n",
       "\n",
       "    .dataframe thead th {\n",
       "        text-align: right;\n",
       "    }\n",
       "</style>\n",
       "<table border=\"1\" class=\"dataframe\">\n",
       "  <thead>\n",
       "    <tr style=\"text-align: right;\">\n",
       "      <th></th>\n",
       "      <th>CT</th>\n",
       "      <th>UCSize</th>\n",
       "      <th>UCShape</th>\n",
       "      <th>MA</th>\n",
       "      <th>SECSize</th>\n",
       "      <th>BN</th>\n",
       "      <th>BC</th>\n",
       "      <th>NN</th>\n",
       "      <th>Mitoses</th>\n",
       "      <th>Diagnosis</th>\n",
       "    </tr>\n",
       "  </thead>\n",
       "  <tbody>\n",
       "    <tr>\n",
       "      <th>0</th>\n",
       "      <td>5</td>\n",
       "      <td>1</td>\n",
       "      <td>1</td>\n",
       "      <td>1</td>\n",
       "      <td>2</td>\n",
       "      <td>1.0</td>\n",
       "      <td>3</td>\n",
       "      <td>1</td>\n",
       "      <td>1</td>\n",
       "      <td>2</td>\n",
       "    </tr>\n",
       "    <tr>\n",
       "      <th>1</th>\n",
       "      <td>5</td>\n",
       "      <td>4</td>\n",
       "      <td>4</td>\n",
       "      <td>5</td>\n",
       "      <td>7</td>\n",
       "      <td>10.0</td>\n",
       "      <td>3</td>\n",
       "      <td>2</td>\n",
       "      <td>1</td>\n",
       "      <td>2</td>\n",
       "    </tr>\n",
       "    <tr>\n",
       "      <th>2</th>\n",
       "      <td>3</td>\n",
       "      <td>1</td>\n",
       "      <td>1</td>\n",
       "      <td>1</td>\n",
       "      <td>2</td>\n",
       "      <td>2.0</td>\n",
       "      <td>3</td>\n",
       "      <td>1</td>\n",
       "      <td>1</td>\n",
       "      <td>2</td>\n",
       "    </tr>\n",
       "    <tr>\n",
       "      <th>3</th>\n",
       "      <td>6</td>\n",
       "      <td>8</td>\n",
       "      <td>8</td>\n",
       "      <td>1</td>\n",
       "      <td>3</td>\n",
       "      <td>4.0</td>\n",
       "      <td>3</td>\n",
       "      <td>7</td>\n",
       "      <td>1</td>\n",
       "      <td>2</td>\n",
       "    </tr>\n",
       "    <tr>\n",
       "      <th>4</th>\n",
       "      <td>4</td>\n",
       "      <td>1</td>\n",
       "      <td>1</td>\n",
       "      <td>3</td>\n",
       "      <td>2</td>\n",
       "      <td>1.0</td>\n",
       "      <td>3</td>\n",
       "      <td>1</td>\n",
       "      <td>1</td>\n",
       "      <td>2</td>\n",
       "    </tr>\n",
       "    <tr>\n",
       "      <th>...</th>\n",
       "      <td>...</td>\n",
       "      <td>...</td>\n",
       "      <td>...</td>\n",
       "      <td>...</td>\n",
       "      <td>...</td>\n",
       "      <td>...</td>\n",
       "      <td>...</td>\n",
       "      <td>...</td>\n",
       "      <td>...</td>\n",
       "      <td>...</td>\n",
       "    </tr>\n",
       "    <tr>\n",
       "      <th>694</th>\n",
       "      <td>3</td>\n",
       "      <td>1</td>\n",
       "      <td>1</td>\n",
       "      <td>1</td>\n",
       "      <td>3</td>\n",
       "      <td>2.0</td>\n",
       "      <td>1</td>\n",
       "      <td>1</td>\n",
       "      <td>1</td>\n",
       "      <td>2</td>\n",
       "    </tr>\n",
       "    <tr>\n",
       "      <th>695</th>\n",
       "      <td>2</td>\n",
       "      <td>1</td>\n",
       "      <td>1</td>\n",
       "      <td>1</td>\n",
       "      <td>2</td>\n",
       "      <td>1.0</td>\n",
       "      <td>1</td>\n",
       "      <td>1</td>\n",
       "      <td>1</td>\n",
       "      <td>2</td>\n",
       "    </tr>\n",
       "    <tr>\n",
       "      <th>696</th>\n",
       "      <td>5</td>\n",
       "      <td>10</td>\n",
       "      <td>10</td>\n",
       "      <td>3</td>\n",
       "      <td>7</td>\n",
       "      <td>3.0</td>\n",
       "      <td>8</td>\n",
       "      <td>10</td>\n",
       "      <td>2</td>\n",
       "      <td>4</td>\n",
       "    </tr>\n",
       "    <tr>\n",
       "      <th>697</th>\n",
       "      <td>4</td>\n",
       "      <td>8</td>\n",
       "      <td>6</td>\n",
       "      <td>4</td>\n",
       "      <td>3</td>\n",
       "      <td>4.0</td>\n",
       "      <td>10</td>\n",
       "      <td>6</td>\n",
       "      <td>1</td>\n",
       "      <td>4</td>\n",
       "    </tr>\n",
       "    <tr>\n",
       "      <th>698</th>\n",
       "      <td>4</td>\n",
       "      <td>8</td>\n",
       "      <td>8</td>\n",
       "      <td>5</td>\n",
       "      <td>4</td>\n",
       "      <td>5.0</td>\n",
       "      <td>10</td>\n",
       "      <td>4</td>\n",
       "      <td>1</td>\n",
       "      <td>4</td>\n",
       "    </tr>\n",
       "  </tbody>\n",
       "</table>\n",
       "<p>699 rows × 10 columns</p>\n",
       "</div>"
      ],
      "text/plain": [
       "     CT  UCSize  UCShape  MA  SECSize    BN  BC  NN  Mitoses  Diagnosis\n",
       "0     5       1        1   1        2   1.0   3   1        1          2\n",
       "1     5       4        4   5        7  10.0   3   2        1          2\n",
       "2     3       1        1   1        2   2.0   3   1        1          2\n",
       "3     6       8        8   1        3   4.0   3   7        1          2\n",
       "4     4       1        1   3        2   1.0   3   1        1          2\n",
       "..   ..     ...      ...  ..      ...   ...  ..  ..      ...        ...\n",
       "694   3       1        1   1        3   2.0   1   1        1          2\n",
       "695   2       1        1   1        2   1.0   1   1        1          2\n",
       "696   5      10       10   3        7   3.0   8  10        2          4\n",
       "697   4       8        6   4        3   4.0  10   6        1          4\n",
       "698   4       8        8   5        4   5.0  10   4        1          4\n",
       "\n",
       "[699 rows x 10 columns]"
      ]
     },
     "execution_count": 2,
     "metadata": {},
     "output_type": "execute_result"
    }
   ],
   "source": [
    "headers = [\"ID\",\"CT\",\"UCSize\",\"UCShape\",\"MA\",\"SECSize\",\"BN\",\"BC\",\"NN\",\"Mitoses\",\"Diagnosis\"]\n",
    "data = pd.read_csv('https://archive.ics.uci.edu/ml/machine-learning-databases/breast-cancer-wisconsin/breast-cancer-wisconsin.data', na_values='?',    \n",
    "         header=None, index_col=['ID'], names = headers) \n",
    "data = data.reset_index(drop=True)\n",
    "data = data.fillna(0)\n",
    "data"
   ]
  },
  {
   "cell_type": "markdown",
   "metadata": {
    "id": "x_gQq5qrHMOG"
   },
   "source": [
    "1. a) Implement a decision tree (you can use decision tree implementation from existing libraries)."
   ]
  },
  {
   "cell_type": "code",
   "execution_count": 3,
   "metadata": {
    "executionInfo": {
     "elapsed": 52,
     "status": "ok",
     "timestamp": 1638633095980,
     "user": {
      "displayName": "Rutvij Menavlikar",
      "photoUrl": "https://lh3.googleusercontent.com/a-/AOh14GjO2RSiL3jz2Zq0vBys8gaL7l3a2C6KDAdeCoTIpA=s64",
      "userId": "00271061997226666130"
     },
     "user_tz": -330
    },
    "id": "g6R3GmzBHMOH"
   },
   "outputs": [],
   "source": [
    "X = data.iloc[:,:-1].to_numpy()\n",
    "y = data.iloc[:,-1].to_numpy()\n",
    "y[y==2]=0\n",
    "y[y==4]=1"
   ]
  },
  {
   "cell_type": "code",
   "execution_count": 4,
   "metadata": {
    "colab": {
     "base_uri": "https://localhost:8080/"
    },
    "executionInfo": {
     "elapsed": 53,
     "status": "ok",
     "timestamp": 1638633095983,
     "user": {
      "displayName": "Rutvij Menavlikar",
      "photoUrl": "https://lh3.googleusercontent.com/a-/AOh14GjO2RSiL3jz2Zq0vBys8gaL7l3a2C6KDAdeCoTIpA=s64",
      "userId": "00271061997226666130"
     },
     "user_tz": -330
    },
    "id": "ogIam0Pe5XlT",
    "outputId": "ed617f61-8015-4da0-f131-f3eded6659fa"
   },
   "outputs": [
    {
     "data": {
      "text/plain": [
       "0.9714285714285714"
      ]
     },
     "execution_count": 4,
     "metadata": {},
     "output_type": "execute_result"
    }
   ],
   "source": [
    "X_train, X_test, y_train, y_test = train_test_split(X, y, test_size=0.2, random_state=0)\n",
    "\n",
    "model = DecisionTreeClassifier(random_state=0).fit(X_train,y_train)\n",
    "var = 0\n",
    "y_pred = model.predict(X_test)\n",
    "accuracy_score(y_pred,y_test)"
   ]
  },
  {
   "cell_type": "markdown",
   "metadata": {
    "id": "VZ7N9m_mHMOJ"
   },
   "source": [
    "1. b) Train a decision tree object of the above class on the WBC dataset using misclassification rate, entropy and Gini as the splitting metrics."
   ]
  },
  {
   "cell_type": "code",
   "execution_count": 5,
   "metadata": {
    "colab": {
     "base_uri": "https://localhost:8080/"
    },
    "executionInfo": {
     "elapsed": 42,
     "status": "ok",
     "timestamp": 1638633095985,
     "user": {
      "displayName": "Rutvij Menavlikar",
      "photoUrl": "https://lh3.googleusercontent.com/a-/AOh14GjO2RSiL3jz2Zq0vBys8gaL7l3a2C6KDAdeCoTIpA=s64",
      "userId": "00271061997226666130"
     },
     "user_tz": -330
    },
    "id": "eHFij6PaHMOJ",
    "outputId": "7d3783ae-980d-49ef-c1ec-d848b37f8040"
   },
   "outputs": [
    {
     "data": {
      "text/plain": [
       "0.9714285714285714"
      ]
     },
     "execution_count": 5,
     "metadata": {},
     "output_type": "execute_result"
    }
   ],
   "source": [
    "model_gini = DecisionTreeClassifier(criterion='gini',random_state=0).fit(X_train,y_train)\n",
    "y_pred_gini = model_gini.predict(X_test)\n",
    "accuracy_score(y_pred_gini,y_test)"
   ]
  },
  {
   "cell_type": "code",
   "execution_count": 6,
   "metadata": {
    "colab": {
     "base_uri": "https://localhost:8080/"
    },
    "executionInfo": {
     "elapsed": 36,
     "status": "ok",
     "timestamp": 1638633095987,
     "user": {
      "displayName": "Rutvij Menavlikar",
      "photoUrl": "https://lh3.googleusercontent.com/a-/AOh14GjO2RSiL3jz2Zq0vBys8gaL7l3a2C6KDAdeCoTIpA=s64",
      "userId": "00271061997226666130"
     },
     "user_tz": -330
    },
    "id": "49QZvmgNHMOL",
    "outputId": "7663fb0d-12af-4e5b-9826-fb1428e761c1"
   },
   "outputs": [
    {
     "data": {
      "text/plain": [
       "0.9285714285714286"
      ]
     },
     "execution_count": 6,
     "metadata": {},
     "output_type": "execute_result"
    }
   ],
   "source": [
    "model_entropy = DecisionTreeClassifier(criterion='entropy',random_state=0).fit(X_train,y_train)\n",
    "y_pred_entropy = model_entropy.predict(X_test)\n",
    "accuracy_score(y_pred_entropy,y_test)"
   ]
  },
  {
   "cell_type": "markdown",
   "metadata": {
    "id": "eXEjInvmHMOK"
   },
   "source": [
    "1. c) Report the accuracies in each of the above splitting metrics and give the best result. "
   ]
  },
  {
   "cell_type": "markdown",
   "metadata": {
    "id": "qoQP2kWM8qdf"
   },
   "source": [
    "- **gini** accuracy: 97.14%\n",
    "- **entropy** accuracy: 92.86%\n",
    "\n",
    "Hence,gini splitting is the better choice.\n",
    "\n",
    "*P.S. \"misclassification rate\" is not a supported splitting in `sklearn.tree.DecisionTreeClassifier`*\n"
   ]
  },
  {
   "cell_type": "markdown",
   "metadata": {
    "id": "Bz_7nYxPHMON"
   },
   "source": [
    "1. d) Experiment with different approaches to decide when to terminate the tree (number of layers, purity measure, etc). Report and give explanations for all approaches. "
   ]
  },
  {
   "cell_type": "code",
   "execution_count": 7,
   "metadata": {
    "colab": {
     "base_uri": "https://localhost:8080/",
     "height": 54
    },
    "executionInfo": {
     "elapsed": 803,
     "status": "ok",
     "timestamp": 1638633096765,
     "user": {
      "displayName": "Rutvij Menavlikar",
      "photoUrl": "https://lh3.googleusercontent.com/a-/AOh14GjO2RSiL3jz2Zq0vBys8gaL7l3a2C6KDAdeCoTIpA=s64",
      "userId": "00271061997226666130"
     },
     "user_tz": -330
    },
    "id": "yLRI0niJHMOP",
    "outputId": "3ce166c8-cb4f-467e-82ec-cd8e2f555bbb"
   },
   "outputs": [
    {
     "data": {
      "image/png": "[encoded data removed]",
      "text/plain": [
       "<Figure size 432x288 with 1 Axes>"
      ]
     },
     "metadata": {
      "needs_background": "light"
     },
     "output_type": "display_data"
    }
   ],
   "source": [
    "def acc_score_no_max_depth(d):\n",
    "  return accuracy_score(\n",
    "    DecisionTreeClassifier(\n",
    "      min_impurity_decrease=d,\n",
    "      random_state=0\n",
    "    ).fit(\n",
    "      X_train,\n",
    "      y_train\n",
    "    ).predict(X_test),\n",
    "    y_test\n",
    "  )\n",
    "\n",
    "vfun1 = np.vectorize(acc_score_no_max_depth)\n",
    "var = 0\n",
    "ax1 = np.linspace(0,1,20)\n",
    "val1 = vfun1(ax1)\n",
    "plt.plot(ax1,val1,'.-')\n",
    "plt.show()"
   ]
  },
  {
   "cell_type": "markdown",
   "metadata": {
    "id": "uWAN_wWXHMOQ"
   },
   "source": [
    "2. What is boosting, bagging and  stacking?\n",
    "Which class does random forests belong to and why?"
   ]
  },
  {
   "cell_type": "markdown",
   "metadata": {
    "id": "LnO5uqHlHMOR"
   },
   "source": [
    "Answer:\n",
    "1. \n",
    "  - **Boosting**: Boosting means that each tree is dependent on prior trees. The algorithm learns by fitting the residual of the trees that preceded it.\n",
    "  - **Bagging**: Bagging (stands for *Bootstrap Aggregation*) is an ensemble method where each tree depends on many many decision trees, rather than depending on a single decision tree.\n",
    "  - **Stacking**: Stacking is an ensemble learning technique that uses predictions for multiple nodes to build a new model. This final model is used for making predictions on the test dataset.\n",
    "1. Random Forest is a bagging method. Because it takes one extra step of adding to taking the random subset of data, and random selection of features rather than using all features to grow trees."
   ]
  },
  {
   "cell_type": "markdown",
   "metadata": {
    "id": "pihvGbqLHMOS"
   },
   "source": [
    "3. Implement random forest algorithm using different decision trees . "
   ]
  },
  {
   "cell_type": "code",
   "execution_count": 8,
   "metadata": {
    "executionInfo": {
     "elapsed": 14,
     "status": "ok",
     "timestamp": 1638633096766,
     "user": {
      "displayName": "Rutvij Menavlikar",
      "photoUrl": "https://lh3.googleusercontent.com/a-/AOh14GjO2RSiL3jz2Zq0vBys8gaL7l3a2C6KDAdeCoTIpA=s64",
      "userId": "00271061997226666130"
     },
     "user_tz": -330
    },
    "id": "dXdPP2aIHMOT"
   },
   "outputs": [],
   "source": [
    "def random_forest(n_trees,X_train,y_train,RANDOM_STATE=0):\n",
    "  np.random.seed(RANDOM_STATE)\n",
    "  trees = []\n",
    "  var = 0\n",
    "  for n in range(n_trees):\n",
    "    ind = np.sort(np.random.choice(y_train.shape[0]-1,np.random.randint(y_train.shape[0]),replace=False))\n",
    "    sample_X_train = X_train[ind]\n",
    "    var = 0\n",
    "    sample_y_train = y_train[ind]\n",
    "    trees.append(DecisionTreeClassifier(random_state=RANDOM_STATE).fit(sample_X_train,sample_y_train))\n",
    "  return trees\n",
    "\n",
    "def rf_predict(trees,X_test):\n",
    "  y_pred = []\n",
    "  var = 0\n",
    "  for x in X_test:\n",
    "    tree_pred = np.array([tree.predict(np.array([x],x.dtype)) for tree in trees])\n",
    "    preds, freq = np.unique(tree_pred,return_counts=True)\n",
    "    var = 0\n",
    "    y_pred.append(preds[np.argmax(freq)])\n",
    "  return np.array(y_pred)"
   ]
  },
  {
   "cell_type": "code",
   "execution_count": 9,
   "metadata": {
    "colab": {
     "base_uri": "https://localhost:8080/"
    },
    "executionInfo": {
     "elapsed": 14,
     "status": "ok",
     "timestamp": 1638633096767,
     "user": {
      "displayName": "Rutvij Menavlikar",
      "photoUrl": "https://lh3.googleusercontent.com/a-/AOh14GjO2RSiL3jz2Zq0vBys8gaL7l3a2C6KDAdeCoTIpA=s64",
      "userId": "00271061997226666130"
     },
     "user_tz": -330
    },
    "id": "y-mOAmKSH_E8",
    "outputId": "b43935e5-ab0b-4063-e5f0-41dcc459fb6e"
   },
   "outputs": [
    {
     "data": {
      "text/plain": [
       "0.9785714285714285"
      ]
     },
     "execution_count": 9,
     "metadata": {},
     "output_type": "execute_result"
    }
   ],
   "source": [
    "N=5\n",
    "model = random_forest(N,X_train,y_train)\n",
    "accuracy_score(y_test,rf_predict(model,X_test))"
   ]
  },
  {
   "cell_type": "markdown",
   "metadata": {
    "id": "zJOn5nNZHMOU"
   },
   "source": [
    "4. Report the accuracies obtained after using the Random forest algorithm and compare it with the best accuracies obtained with the decision trees. "
   ]
  },
  {
   "cell_type": "markdown",
   "metadata": {
    "id": "ghuyRlPBIxip"
   },
   "source": [
    "- **Decision Tree**: Maximum recorded accuracy is 97.14%\n",
    "- **Random Forest**: Maximum recorded accuracy is 97.86%"
   ]
  },
  {
   "cell_type": "markdown",
   "metadata": {
    "id": "yj-vNvsYHMOX"
   },
   "source": [
    "5. Submit your solution as a separate pdf in the final zip file of your submission\n",
    "\n",
    "\n",
    "Compute a decision tree with the goal to predict the food review based on its smell, taste and portion size.\n",
    "\n",
    "(a) Compute the entropy of each rule in the first stage.\n",
    "\n",
    "(b) Show the final decision tree. Clearly draw it.\n",
    "\n",
    "Submit a handwritten response. Clearly show all the steps.\n",
    "\n"
   ]
  }
 ],
 "metadata": {
  "colab": {
   "collapsed_sections": [],
   "name": "DecisionTreesAndRandomForests.ipynb",
   "provenance": []
  },
  "interpreter": {
   "hash": "1f8d80d535cfd832283e4e3a1095d2ce45fe6627336684f2622a1965babb2f1c"
  },
  "kernelspec": {
   "display_name": "Python 3",
   "language": "python",
   "name": "python3"
  },
  "language_info": {
   "codemirror_mode": {
    "name": "ipython",
    "version": 3
   },
   "file_extension": ".py",
   "mimetype": "text/x-python",
   "name": "python",
   "nbconvert_exporter": "python",
   "pygments_lexer": "ipython3",
   "version": "3.8.8"
  }
 },
 "nbformat": 4,
 "nbformat_minor": 1
}
