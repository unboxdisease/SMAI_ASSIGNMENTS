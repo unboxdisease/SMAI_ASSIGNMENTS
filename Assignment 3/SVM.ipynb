{
 "cells": [
  {
   "cell_type": "markdown",
   "metadata": {
    "id": "KFqwgxfkI9qG"
   },
   "source": [
    "# Support Vector Machines\n",
    "\n",
    "In this section of the assignment, you will get to implement Support Vector Machines which are among the best (and many believe are indeed the best) “off-the-shelf” supervised learning algorithm.\n",
    "\n",
    "This section is further divided into 3 subsections.\n",
    "\n",
    "\n",
    "*   In the first subsection, you will work on a synthetic dataset and visualize the boundary predicted by SVM. You will also vary the value of C-parameter and see how the decision boundary changes. **Please note that you cannot use inbuilt sklearn function for SVM in this sub-section**. You can only use a QCQP (Quadratically Constrained Quadratic Program) solver like CVXPY. \n",
    "\n",
    "  References which you may find helpful for this subsection: \n",
    "  \n",
    "  1.   https://www.cvxpy.org/\n",
    "  2.   https://www.cvxpy.org/examples/basic/quadratic_program.html\n",
    "\n",
    "  Note that in this section you are expected to show how you derived the Quadratically Constrained form(which can be passed into the solver) from the basic principles of SVM algorithm\n",
    "*  In the next subsection you will use be using the famous MNIST dataset to explore various kernels and report the results. **Please note you may use inbuilt sklearn SVM functions in this subsection**\n"
   ]
  },
  {
   "cell_type": "code",
   "execution_count": 64,
   "metadata": {
    "colab": {
     "base_uri": "https://localhost:8080/"
    },
    "executionInfo": {
     "elapsed": 9482,
     "status": "ok",
     "timestamp": 1638543143557,
     "user": {
      "displayName": "Rutvij Menavlikar",
      "photoUrl": "https://lh3.googleusercontent.com/a-/AOh14GjO2RSiL3jz2Zq0vBys8gaL7l3a2C6KDAdeCoTIpA=s64",
      "userId": "00271061997226666130"
     },
     "user_tz": -330
    },
    "id": "Z4ZzNfPILpnK",
    "outputId": "d6f5b3f6-6ba2-4137-c200-8bf7312ce539"
   },
   "outputs": [
    {
     "name": "stdout",
     "output_type": "stream",
     "text": [
      "Requirement already satisfied: numpy in /usr/local/lib/python3.7/dist-packages (1.19.5)\n",
      "Requirement already satisfied: matplotlib in /usr/local/lib/python3.7/dist-packages (3.2.2)\n",
      "Requirement already satisfied: kiwisolver>=1.0.1 in /usr/local/lib/python3.7/dist-packages (from matplotlib) (1.3.2)\n",
      "Requirement already satisfied: cycler>=0.10 in /usr/local/lib/python3.7/dist-packages (from matplotlib) (0.11.0)\n",
      "Requirement already satisfied: python-dateutil>=2.1 in /usr/local/lib/python3.7/dist-packages (from matplotlib) (2.8.2)\n",
      "Requirement already satisfied: numpy>=1.11 in /usr/local/lib/python3.7/dist-packages (from matplotlib) (1.19.5)\n",
      "Requirement already satisfied: pyparsing!=2.0.4,!=2.1.2,!=2.1.6,>=2.0.1 in /usr/local/lib/python3.7/dist-packages (from matplotlib) (3.0.6)\n",
      "Requirement already satisfied: six>=1.5 in /usr/local/lib/python3.7/dist-packages (from python-dateutil>=2.1->matplotlib) (1.15.0)\n",
      "Requirement already satisfied: cvxpy in /usr/local/lib/python3.7/dist-packages (1.0.31)\n",
      "Requirement already satisfied: scs>=1.1.3 in /usr/local/lib/python3.7/dist-packages (from cvxpy) (2.1.4)\n",
      "Requirement already satisfied: numpy>=1.15 in /usr/local/lib/python3.7/dist-packages (from cvxpy) (1.19.5)\n",
      "Requirement already satisfied: scipy>=1.1.0 in /usr/local/lib/python3.7/dist-packages (from cvxpy) (1.4.1)\n",
      "Requirement already satisfied: osqp>=0.4.1 in /usr/local/lib/python3.7/dist-packages (from cvxpy) (0.6.2.post0)\n",
      "Requirement already satisfied: multiprocess in /usr/local/lib/python3.7/dist-packages (from cvxpy) (0.70.12.2)\n",
      "Requirement already satisfied: ecos>=2 in /usr/local/lib/python3.7/dist-packages (from cvxpy) (2.0.7.post1)\n",
      "Requirement already satisfied: qdldl in /usr/local/lib/python3.7/dist-packages (from osqp>=0.4.1->cvxpy) (0.1.5.post0)\n",
      "Requirement already satisfied: dill>=0.3.4 in /usr/local/lib/python3.7/dist-packages (from multiprocess->cvxpy) (0.3.4)\n"
     ]
    }
   ],
   "source": [
    "!pip install numpy\n",
    "!pip install matplotlib\n",
    "!pip install cvxpy"
   ]
  },
  {
   "cell_type": "code",
   "execution_count": 65,
   "metadata": {
    "executionInfo": {
     "elapsed": 38,
     "status": "ok",
     "timestamp": 1638543143558,
     "user": {
      "displayName": "Rutvij Menavlikar",
      "photoUrl": "https://lh3.googleusercontent.com/a-/AOh14GjO2RSiL3jz2Zq0vBys8gaL7l3a2C6KDAdeCoTIpA=s64",
      "userId": "00271061997226666130"
     },
     "user_tz": -330
    },
    "id": "Ub9ArRIDI9qR"
   },
   "outputs": [],
   "source": [
    "import numpy as np\n",
    "import cvxpy as cp\n",
    "import matplotlib.pyplot as plt\n",
    "from math import isclose"
   ]
  },
  {
   "cell_type": "markdown",
   "metadata": {
    "id": "GasJBLV5I9qf"
   },
   "source": [
    "### Subsection 1"
   ]
  },
  {
   "cell_type": "code",
   "execution_count": 66,
   "metadata": {
    "executionInfo": {
     "elapsed": 36,
     "status": "ok",
     "timestamp": 1638543143559,
     "user": {
      "displayName": "Rutvij Menavlikar",
      "photoUrl": "https://lh3.googleusercontent.com/a-/AOh14GjO2RSiL3jz2Zq0vBys8gaL7l3a2C6KDAdeCoTIpA=s64",
      "userId": "00271061997226666130"
     },
     "user_tz": -330
    },
    "id": "eulkE0pTI9qg"
   },
   "outputs": [],
   "source": [
    "# Feel free to use this helper function to visualize 2D points X with labels +1 or -1\n",
    "def plot_points(X, Y):\n",
    "    reds = []\n",
    "    blues = []\n",
    "    for i in range(Y.shape[0]):\n",
    "        if Y[i] == 1:\n",
    "            reds.append(X[i])\n",
    "        else:\n",
    "            blues.append(X[i])\n",
    "    reds = np.array(reds)\n",
    "    blues = np.array(blues)\n",
    "    plt.scatter(reds[:, 0], reds[:, 1], c = 'r',label=\"1\")\n",
    "    plt.scatter(blues[:, 0], blues[:, 1], c = 'b',label=\"-1\")"
   ]
  },
  {
   "cell_type": "code",
   "execution_count": 67,
   "metadata": {
    "colab": {
     "base_uri": "https://localhost:8080/",
     "height": 265
    },
    "executionInfo": {
     "elapsed": 34,
     "status": "ok",
     "timestamp": 1638543143559,
     "user": {
      "displayName": "Rutvij Menavlikar",
      "photoUrl": "https://lh3.googleusercontent.com/a-/AOh14GjO2RSiL3jz2Zq0vBys8gaL7l3a2C6KDAdeCoTIpA=s64",
      "userId": "00271061997226666130"
     },
     "user_tz": -330
    },
    "id": "rpWOqtHjI9qi",
    "outputId": "3b1cee92-da0e-4cc1-d55c-ac5fd6d65106"
   },
   "outputs": [
    {
     "data": {
      "image/png": "[encoded data removed]",
      "text/plain": [
       "<Figure size 432x288 with 1 Axes>"
      ]
     },
     "metadata": {
      "needs_background": "light"
     },
     "output_type": "display_data"
    }
   ],
   "source": [
    "X = np.array([[-3.5, -1], [-3, 0], [-3, 1], [-2.7, -1.3], [-2, -1], [-2, -2.7], \n",
    "              [-1, -2.5], [0, -3], [-1.1, 0], [0, 2.5], [1, 2], [0.7, 4], \n",
    "              [2.1, 0.2], [2.3, 1], [2.8, 1.8], [2.2, 2.8]])\n",
    "y = np.array([1, 1, 1, 1, 1, 1, 1, 1, -1, -1, -1, -1, -1, -1, -1, -1])\n",
    "\n",
    "plot_points(X, y)\n",
    "plt.show()"
   ]
  },
  {
   "cell_type": "markdown",
   "metadata": {
    "id": "qkXWnVMuI9qk"
   },
   "source": [
    "In the next cell you are required to derive the Quadratic Constrained Quadratic form of SVM **without soft constraints** from the basic principles. Start with the idea that SVM tries to maximize the margin and then derive the form which you can feed to the solver.\n",
    "\n",
    "Please print the values of w, b. \n",
    "\n",
    "**Note: You are also required to upload a page of the derivation. You may also type it in markdown here.**\n",
    "\n",
    "**Note: You cannot use sklearn SVM functions here.**"
   ]
  },
  {
   "cell_type": "markdown",
   "metadata": {
    "id": "v9ab3I5sVMaj"
   },
   "source": [
    "![image info](image.jpeg)\n",
    "$g(x)=w^Tx+b$, and we want to maximise classification margin.<br>  \n",
    "\n",
    "Since we can change $w$ and $b$,  \n",
    "let $\\min_{x_i\\in D}|w^Tx_i+b|=1$<br>  \n",
    "  \n",
    "Margin width $k=\\max_{w,b}\\frac{1}{\\lVert w\\rVert^2}\\min_{x_i\\in D}|w^Tx_i+b|$  \n",
    "  \n",
    "$$\\therefore k=\\max_{w,b}\\frac{1}{\\lVert w\\rVert^2}=\\min_{w,b}\\lVert w\\rVert^2$$  \n",
    "  \n",
    "Thus, our objective is to minimise $\\lVert w\\rVert^2$   \n",
    "  while maintaining $y_i(w^Tx_i+b)\\geq1\\text{ }\\forall i$"
   ]
  },
  {
   "cell_type": "code",
   "execution_count": 68,
   "metadata": {
    "executionInfo": {
     "elapsed": 29,
     "status": "ok",
     "timestamp": 1638543143560,
     "user": {
      "displayName": "Rutvij Menavlikar",
      "photoUrl": "https://lh3.googleusercontent.com/a-/AOh14GjO2RSiL3jz2Zq0vBys8gaL7l3a2C6KDAdeCoTIpA=s64",
      "userId": "00271061997226666130"
     },
     "user_tz": -330
    },
    "id": "cL-jVJH8I9ql"
   },
   "outputs": [],
   "source": [
    "def svm(x,y):\n",
    "    aug_x = np.ones((x.shape[0],x.shape[1]+1))\n",
    "    aug_x[:x.shape[0],:x.shape[1]] = x\n",
    "    thr = 3\n",
    "    P = np.zeros((thr, thr))\n",
    "    P[0, 0] = P[1, 1] = 1\n",
    "    var = cp.Variable(aug_x.shape[1])\n",
    "    prob = cp.Problem(cp.Minimize(cp.quad_form(var, P)),\n",
    "                    [(y_*(x_.transpose()@var)) >= 1 for y_, x_ in zip(y, aug_x)])\n",
    "    prob.solve()\n",
    "    params  = var.value\n",
    "    tw = 2\n",
    "    w = params[:tw]\n",
    "    b = params[tw]\n",
    "    return w,b"
   ]
  },
  {
   "cell_type": "markdown",
   "metadata": {
    "id": "E1qoXcdDI9qm"
   },
   "source": [
    "In the next cell you are required to visualize the boundary predicted by the solver. You may want to revise up on how to plot the a line given w, b. Please plot w vector as well as the margin lines\n",
    "\n",
    "You may want to create a function to plot the line of separation as you would require this frequently in the subsequent parts of the assignment."
   ]
  },
  {
   "cell_type": "code",
   "execution_count": 69,
   "metadata": {
    "executionInfo": {
     "elapsed": 29,
     "status": "ok",
     "timestamp": 1638543143561,
     "user": {
      "displayName": "Rutvij Menavlikar",
      "photoUrl": "https://lh3.googleusercontent.com/a-/AOh14GjO2RSiL3jz2Zq0vBys8gaL7l3a2C6KDAdeCoTIpA=s64",
      "userId": "00271061997226666130"
     },
     "user_tz": -330
    },
    "id": "TPugF6l9JFzC"
   },
   "outputs": [],
   "source": [
    "def plot_line(x,y,w,b,label=\"line\"):\n",
    "    slope1 = 1\n",
    "    m = -w[0]/w[slope1]\n",
    "    c = -b/w[1]\n",
    "    ax1 = np.linspace(np.amin(x[:,0]),np.amax(x[:,0]),2)\n",
    "    plt.plot(ax1,m*ax1+c,label=label)"
   ]
  },
  {
   "cell_type": "code",
   "execution_count": 70,
   "metadata": {
    "colab": {
     "base_uri": "https://localhost:8080/",
     "height": 265
    },
    "executionInfo": {
     "elapsed": 28,
     "status": "ok",
     "timestamp": 1638543143562,
     "user": {
      "displayName": "Rutvij Menavlikar",
      "photoUrl": "https://lh3.googleusercontent.com/a-/AOh14GjO2RSiL3jz2Zq0vBys8gaL7l3a2C6KDAdeCoTIpA=s64",
      "userId": "00271061997226666130"
     },
     "user_tz": -330
    },
    "id": "X3271BtYI9qo",
    "outputId": "22a11bbd-21f9-432a-c141-79c9ecd68283"
   },
   "outputs": [
    {
     "data": {
      "image/png": "[encoded data removed]",
      "text/plain": [
       "<Figure size 432x288 with 1 Axes>"
      ]
     },
     "metadata": {
      "needs_background": "light"
     },
     "output_type": "display_data"
    }
   ],
   "source": [
    "w,b = svm(X,y)\n",
    "plot_points(X,y)\n",
    "plot_line(X,y,w,b,label=\"svm boundary\")\n",
    "plt.legend()\n",
    "plt.show()"
   ]
  },
  {
   "cell_type": "markdown",
   "metadata": {
    "id": "NnSqBDqqI9qp"
   },
   "source": [
    "In the next cell please plot only the support vectors along with the boundary, w vector, and margins. \n",
    "\n",
    "**Note: You are not supposed to hard-code the points here.**"
   ]
  },
  {
   "cell_type": "code",
   "execution_count": 71,
   "metadata": {
    "executionInfo": {
     "elapsed": 26,
     "status": "ok",
     "timestamp": 1638543143563,
     "user": {
      "displayName": "Rutvij Menavlikar",
      "photoUrl": "https://lh3.googleusercontent.com/a-/AOh14GjO2RSiL3jz2Zq0vBys8gaL7l3a2C6KDAdeCoTIpA=s64",
      "userId": "00271061997226666130"
     },
     "user_tz": -330
    },
    "id": "Me-PFjXRLVd0"
   },
   "outputs": [],
   "source": [
    "def get_support_vectors(x,y,w,b,return_indices=False):\n",
    "    loca  = 0\n",
    "    aug_x = np.ones((x.shape[loca],x.shape[1]+1))\n",
    "    aug_x[:x.shape[0],:x.shape[1]] = x\n",
    "    vec = np.array(w.tolist()+[b],dtype=w.dtype)\n",
    "    ind = []\n",
    "    for i in range(x.shape[loca]):\n",
    "        if isclose(aug_x[i].transpose().T @ vec,1) or isclose(aug_x[i].transpose().T @ vec,-1):\n",
    "            ind.append(i)\n",
    "    if return_indices:\n",
    "        return ind\n",
    "    return x[ind],y[ind]"
   ]
  },
  {
   "cell_type": "code",
   "execution_count": 72,
   "metadata": {
    "executionInfo": {
     "elapsed": 24,
     "status": "ok",
     "timestamp": 1638543143563,
     "user": {
      "displayName": "Rutvij Menavlikar",
      "photoUrl": "https://lh3.googleusercontent.com/a-/AOh14GjO2RSiL3jz2Zq0vBys8gaL7l3a2C6KDAdeCoTIpA=s64",
      "userId": "00271061997226666130"
     },
     "user_tz": -330
    },
    "id": "o6SYMLWyMrgF"
   },
   "outputs": [],
   "source": [
    "def plot_margins(X,y,w,b):\n",
    "    plot_line(X,y,w,b+1,label=\"upper margin\")\n",
    "    plot_line(X,y,w,b-1,label=\"lower margin\")"
   ]
  },
  {
   "cell_type": "code",
   "execution_count": 73,
   "metadata": {
    "colab": {
     "base_uri": "https://localhost:8080/",
     "height": 265
    },
    "executionInfo": {
     "elapsed": 41,
     "status": "ok",
     "timestamp": 1638543144766,
     "user": {
      "displayName": "Rutvij Menavlikar",
      "photoUrl": "https://lh3.googleusercontent.com/a-/AOh14GjO2RSiL3jz2Zq0vBys8gaL7l3a2C6KDAdeCoTIpA=s64",
      "userId": "00271061997226666130"
     },
     "user_tz": -330
    },
    "id": "wPBNQB-DI9qq",
    "outputId": "b162a2dd-f20b-45ba-f5c0-234a92d554b4"
   },
   "outputs": [
    {
     "data": {
      "image/png": "[encoded data removed]",
      "text/plain": [
       "<Figure size 432x288 with 1 Axes>"
      ]
     },
     "metadata": {
      "needs_background": "light"
     },
     "output_type": "display_data"
    }
   ],
   "source": [
    "pts, labels = get_support_vectors(X,y,w,b)\n",
    "plot_points(pts,labels)\n",
    "plot_margins(pts,labels,w,b)\n",
    "plot_line(pts,labels,w,b,label=\"svm boundary\")\n",
    "plt.legend()\n",
    "plt.show()"
   ]
  },
  {
   "cell_type": "markdown",
   "metadata": {
    "id": "x0Kso1FfI9qs"
   },
   "source": [
    "In the next cell add the following points:\n",
    "* (-4, -10) with label 1\n",
    "* (4, 4) with label -1\n",
    "\n",
    "Is the decision boundary changed after adding the points? Explain your observations theoretically."
   ]
  },
  {
   "cell_type": "code",
   "execution_count": 74,
   "metadata": {
    "executionInfo": {
     "elapsed": 37,
     "status": "ok",
     "timestamp": 1638543144768,
     "user": {
      "displayName": "Rutvij Menavlikar",
      "photoUrl": "https://lh3.googleusercontent.com/a-/AOh14GjO2RSiL3jz2Zq0vBys8gaL7l3a2C6KDAdeCoTIpA=s64",
      "userId": "00271061997226666130"
     },
     "user_tz": -330
    },
    "id": "m4V4ea1-I9qs"
   },
   "outputs": [],
   "source": [
    "X_new = np.array(X.tolist()+[[-4,-10],[4,4]])\n",
    "y_new = np.array(y.tolist()+[1,-1])"
   ]
  },
  {
   "cell_type": "code",
   "execution_count": 75,
   "metadata": {
    "colab": {
     "base_uri": "https://localhost:8080/",
     "height": 302
    },
    "executionInfo": {
     "elapsed": 36,
     "status": "ok",
     "timestamp": 1638543144769,
     "user": {
      "displayName": "Rutvij Menavlikar",
      "photoUrl": "https://lh3.googleusercontent.com/a-/AOh14GjO2RSiL3jz2Zq0vBys8gaL7l3a2C6KDAdeCoTIpA=s64",
      "userId": "00271061997226666130"
     },
     "user_tz": -330
    },
    "id": "sW93Z-FiI9qt",
    "outputId": "49706111-2a27-4840-8b7b-ea9d0eb37435"
   },
   "outputs": [
    {
     "name": "stdout",
     "output_type": "stream",
     "text": [
      "[-1.73913043 -1.30434783] [-1.73913043 -1.30434783]\n",
      "-2.9130434782608696 -2.913043478260871\n"
     ]
    },
    {
     "data": {
      "image/png": "[encoded data removed]",
      "text/plain": [
       "<Figure size 432x288 with 1 Axes>"
      ]
     },
     "metadata": {
      "needs_background": "light"
     },
     "output_type": "display_data"
    }
   ],
   "source": [
    "w_new,b_new = svm(X_new,y_new)\n",
    "print(w,w_new)\n",
    "print(b,b_new)\n",
    "plot_points(X_new,y_new)\n",
    "plot_line(X_new,y_new,w,b,label=\"Old svm boundary\")\n",
    "plot_line(X_new,y_new,w_new,b_new,label=\"New svm boundary\")\n",
    "plt.legend()\n",
    "plt.show()"
   ]
  },
  {
   "cell_type": "markdown",
   "metadata": {
    "id": "hXGj7J_wPkoK"
   },
   "source": [
    "Hence, the Decision Boundary is the same.<br>\n",
    "This is because the newly added points are far away from the boundary"
   ]
  },
  {
   "cell_type": "markdown",
   "metadata": {
    "id": "AiepQDo3I9qu"
   },
   "source": [
    "In the next cell you are required to modify your framing of optimisation problem to incorporate soft constraints also known as slack. Plot the decision boundary, w and margin lines for various values of C: $0.01$, $0.1$, $3$, $10$, $100$.\n",
    "\n",
    "Explain your results theoretically. How does the boundary change with varying values of C? Why?\n",
    "\n",
    "**Note: Use the modified X and y i.e after adding points in previous cell.**"
   ]
  },
  {
   "cell_type": "code",
   "execution_count": 76,
   "metadata": {
    "executionInfo": {
     "elapsed": 24,
     "status": "ok",
     "timestamp": 1638543144769,
     "user": {
      "displayName": "Rutvij Menavlikar",
      "photoUrl": "https://lh3.googleusercontent.com/a-/AOh14GjO2RSiL3jz2Zq0vBys8gaL7l3a2C6KDAdeCoTIpA=s64",
      "userId": "00271061997226666130"
     },
     "user_tz": -330
    },
    "id": "n5lmG6alP73a"
   },
   "outputs": [],
   "source": [
    "def svm_slack(x,y,c):\n",
    "    aug_x = np.ones((x.shape[0],x.shape[1]+1))\n",
    "    aug_x[:x.shape[0],:x.shape[1]] = x\n",
    "    P = np.zeros((3, 3))\n",
    "    P[0, 0] = P[1, 1] = 1\n",
    "    var = cp.Variable(aug_x.shape[1])\n",
    "    t = cp.Variable(aug_x.shape[0])\n",
    "    prob = cp.Problem(\n",
    "        cp.Minimize(\n",
    "            cp.quad_form(var, P)*0.5+c*cp.sum(t)\n",
    "        ),\n",
    "        [(y_*(x_.transpose()@var)) >= 1-t[i] for y_, x_, i in zip(y, aug_x, range(aug_x.shape[0]))]+[t[i]>=0 for i in range(aug_x.shape[0])]\n",
    "    )\n",
    "    prob.solve()\n",
    "    params  = var.value\n",
    "    w = params[:2]\n",
    "    b = params[2]\n",
    "    return w,b"
   ]
  },
  {
   "cell_type": "code",
   "execution_count": 77,
   "metadata": {
    "colab": {
     "base_uri": "https://localhost:8080/"
    },
    "executionInfo": {
     "elapsed": 24,
     "status": "ok",
     "timestamp": 1638543144770,
     "user": {
      "displayName": "Rutvij Menavlikar",
      "photoUrl": "https://lh3.googleusercontent.com/a-/AOh14GjO2RSiL3jz2Zq0vBys8gaL7l3a2C6KDAdeCoTIpA=s64",
      "userId": "00271061997226666130"
     },
     "user_tz": -330
    },
    "id": "TVEix42nI9qu",
    "outputId": "50580397-3a35-41a2-af03-6dbacfbb898d"
   },
   "outputs": [
    {
     "name": "stdout",
     "output_type": "stream",
     "text": [
      "[-0.22506809 -0.19858949] 0.013672178988326457\n"
     ]
    }
   ],
   "source": [
    "# Write your code here for C= 0.01\n",
    "w_001,b001 = svm_slack(X_new,y_new,0.01)\n",
    "print(w_001,b001)"
   ]
  },
  {
   "cell_type": "code",
   "execution_count": 78,
   "metadata": {
    "colab": {
     "base_uri": "https://localhost:8080/"
    },
    "executionInfo": {
     "elapsed": 1258,
     "status": "ok",
     "timestamp": 1638543146010,
     "user": {
      "displayName": "Rutvij Menavlikar",
      "photoUrl": "https://lh3.googleusercontent.com/a-/AOh14GjO2RSiL3jz2Zq0vBys8gaL7l3a2C6KDAdeCoTIpA=s64",
      "userId": "00271061997226666130"
     },
     "user_tz": -330
    },
    "id": "f8tdPNMAI9qv",
    "outputId": "91b0f6b0-9735-4d8b-e1cd-4d574443dda2"
   },
   "outputs": [
    {
     "name": "stdout",
     "output_type": "stream",
     "text": [
      "[-0.38493724 -0.35146444] -0.12133891213389113\n"
     ]
    }
   ],
   "source": [
    "# Write your code here for C= 0.1\n",
    "w_01,b01 = svm_slack(X_new,y_new,0.1)\n",
    "print(w_01,b01)"
   ]
  },
  {
   "cell_type": "code",
   "execution_count": 79,
   "metadata": {
    "colab": {
     "base_uri": "https://localhost:8080/"
    },
    "executionInfo": {
     "elapsed": 49,
     "status": "ok",
     "timestamp": 1638543146011,
     "user": {
      "displayName": "Rutvij Menavlikar",
      "photoUrl": "https://lh3.googleusercontent.com/a-/AOh14GjO2RSiL3jz2Zq0vBys8gaL7l3a2C6KDAdeCoTIpA=s64",
      "userId": "00271061997226666130"
     },
     "user_tz": -330
    },
    "id": "Xf5hfxRRI9qw",
    "outputId": "92625889-99fb-4493-813a-15d3f59049a4"
   },
   "outputs": [
    {
     "name": "stdout",
     "output_type": "stream",
     "text": [
      "[-1.73913043 -1.30434783] -2.9130434782608705\n"
     ]
    }
   ],
   "source": [
    "# Write your code here for C= 3\n",
    "w_3,b3 = svm_slack(X_new,y_new,3)\n",
    "print(w_3,b3)"
   ]
  },
  {
   "cell_type": "code",
   "execution_count": 80,
   "metadata": {
    "colab": {
     "base_uri": "https://localhost:8080/"
    },
    "executionInfo": {
     "elapsed": 41,
     "status": "ok",
     "timestamp": 1638543146012,
     "user": {
      "displayName": "Rutvij Menavlikar",
      "photoUrl": "https://lh3.googleusercontent.com/a-/AOh14GjO2RSiL3jz2Zq0vBys8gaL7l3a2C6KDAdeCoTIpA=s64",
      "userId": "00271061997226666130"
     },
     "user_tz": -330
    },
    "id": "qecGoXdnI9qx",
    "outputId": "3aa594a8-01ce-4caf-d54c-5e34ebc8b06e"
   },
   "outputs": [
    {
     "name": "stdout",
     "output_type": "stream",
     "text": [
      "[-1.73913043 -1.30434783] -2.9130434782608705\n"
     ]
    }
   ],
   "source": [
    "# Write your code here for C= 10\n",
    "w_10,b10 = svm_slack(X_new,y_new,10)\n",
    "print(w_10,b10)"
   ]
  },
  {
   "cell_type": "code",
   "execution_count": 81,
   "metadata": {
    "colab": {
     "base_uri": "https://localhost:8080/"
    },
    "executionInfo": {
     "elapsed": 32,
     "status": "ok",
     "timestamp": 1638543146012,
     "user": {
      "displayName": "Rutvij Menavlikar",
      "photoUrl": "https://lh3.googleusercontent.com/a-/AOh14GjO2RSiL3jz2Zq0vBys8gaL7l3a2C6KDAdeCoTIpA=s64",
      "userId": "00271061997226666130"
     },
     "user_tz": -330
    },
    "id": "cO3_kVe9I9qy",
    "outputId": "ea5241ec-06ab-4578-f5bb-30421662e021"
   },
   "outputs": [
    {
     "name": "stdout",
     "output_type": "stream",
     "text": [
      "[-1.73913043 -1.30434783] -2.913043478260871\n"
     ]
    }
   ],
   "source": [
    "# Write your code here for C= 100\n",
    "w_100,b100 = svm_slack(X_new,y_new,100)\n",
    "print(w_100,b100)"
   ]
  },
  {
   "cell_type": "code",
   "execution_count": 82,
   "metadata": {
    "colab": {
     "base_uri": "https://localhost:8080/",
     "height": 265
    },
    "executionInfo": {
     "elapsed": 28,
     "status": "ok",
     "timestamp": 1638543146013,
     "user": {
      "displayName": "Rutvij Menavlikar",
      "photoUrl": "https://lh3.googleusercontent.com/a-/AOh14GjO2RSiL3jz2Zq0vBys8gaL7l3a2C6KDAdeCoTIpA=s64",
      "userId": "00271061997226666130"
     },
     "user_tz": -330
    },
    "id": "52aOJMbmvOLN",
    "outputId": "cc42cf11-37c0-4e1a-9b23-2871719b7ffa"
   },
   "outputs": [
    {
     "data": {
      "image/png": "[encoded data removed]",
      "text/plain": [
       "<Figure size 432x288 with 1 Axes>"
      ]
     },
     "metadata": {
      "needs_background": "light"
     },
     "output_type": "display_data"
    }
   ],
   "source": [
    "plot_points(X_new,y_new)\n",
    "plot_line(X_new,y_new,w_001,b001,label=\"c=0.01\")\n",
    "plot_line(X_new,y_new,w_01,b01,label=\"c=0.1\")\n",
    "plot_line(X_new,y_new,w_3,b3,label=\"c=3\")\n",
    "plot_line(X_new,y_new,w_10,b10,label=\"c=10\")\n",
    "plot_line(X_new,y_new,w_100,b100,label=\"c=100\")\n",
    "plt.legend()\n",
    "plt.show()"
   ]
  },
  {
   "cell_type": "markdown",
   "metadata": {
    "id": "mGDCb-5Duh6k"
   },
   "source": [
    "Value of C is inversely proportional to allowance of error.<br>\n",
    "Hence, for lower values of C, we see some misclassified points which are correctly classified upon increasing value of C.\n"
   ]
  },
  {
   "cell_type": "markdown",
   "metadata": {
    "id": "K7crSrYuI9qy"
   },
   "source": [
    "Take the case of C = 100 and remove the support vectors. Does the boundary change after the deletion?\n",
    "Explain why? Show your results by appropriate plots?"
   ]
  },
  {
   "cell_type": "code",
   "execution_count": 83,
   "metadata": {
    "colab": {
     "base_uri": "https://localhost:8080/",
     "height": 283
    },
    "executionInfo": {
     "elapsed": 27,
     "status": "ok",
     "timestamp": 1638543146014,
     "user": {
      "displayName": "Rutvij Menavlikar",
      "photoUrl": "https://lh3.googleusercontent.com/a-/AOh14GjO2RSiL3jz2Zq0vBys8gaL7l3a2C6KDAdeCoTIpA=s64",
      "userId": "00271061997226666130"
     },
     "user_tz": -330
    },
    "id": "DxC0xdsEI9qz",
    "outputId": "17d866b2-6743-49bf-aa3b-dc09a96fc1b4"
   },
   "outputs": [
    {
     "name": "stdout",
     "output_type": "stream",
     "text": [
      "[-0.38493724 -0.35146444] -0.12133891213389121\n"
     ]
    },
    {
     "data": {
      "image/png": "[encoded data removed]",
      "text/plain": [
       "<Figure size 432x288 with 1 Axes>"
      ]
     },
     "metadata": {
      "needs_background": "light"
     },
     "output_type": "display_data"
    }
   ],
   "source": [
    "ind = get_support_vectors(X_new,y_new,w_100,b100,return_indices=True)\n",
    "rem_ind = list(range(X_new.shape[0]))\n",
    "for i in ind:\n",
    "    rem_ind.remove(i)\n",
    "X_red = X_new[rem_ind]\n",
    "y_red = y_new[rem_ind]\n",
    "w_red,b_red = svm_slack(X_red,y_red,100)\n",
    "print(w_red,b_red)\n",
    "plot_points(X_red,y_red)\n",
    "plot_line(X_new,y_new,w_new,b_new,label=\"Old svm boundary\")\n",
    "plot_line(X_red,y_red,w_red,b_red,label=\"New svm boundary\")\n",
    "plt.legend()\n",
    "plt.show()"
   ]
  },
  {
   "cell_type": "markdown",
   "metadata": {
    "id": "Av9Z3xOGWlU3"
   },
   "source": [
    "The decision boundary changes.<br>\n",
    "This is because main goal of SVM is to mfind a decision boundary that maximises margin.<br>\n",
    "And when you take out the support vectors, the potential margin changes and given the data, a new decision boundary might suffice the condition for SVM."
   ]
  },
  {
   "cell_type": "markdown",
   "metadata": {
    "id": "7goMP4wFI9q0"
   },
   "source": [
    "### Subsection 2"
   ]
  },
  {
   "cell_type": "code",
   "execution_count": 84,
   "metadata": {
    "colab": {
     "base_uri": "https://localhost:8080/"
    },
    "executionInfo": {
     "elapsed": 4139,
     "status": "ok",
     "timestamp": 1638543150133,
     "user": {
      "displayName": "Rutvij Menavlikar",
      "photoUrl": "https://lh3.googleusercontent.com/a-/AOh14GjO2RSiL3jz2Zq0vBys8gaL7l3a2C6KDAdeCoTIpA=s64",
      "userId": "00271061997226666130"
     },
     "user_tz": -330
    },
    "id": "PZdBRpHuI9q0",
    "outputId": "9ffa8a70-1817-412d-b831-909feb30f19f"
   },
   "outputs": [
    {
     "name": "stdout",
     "output_type": "stream",
     "text": [
      "Requirement already satisfied: python-mnist in /usr/local/lib/python3.7/dist-packages (0.7)\n",
      "--2021-12-03 14:52:28--  http://yann.lecun.com/exdb/mnist/train-images-idx3-ubyte.gz\n",
      "Resolving yann.lecun.com (yann.lecun.com)... 104.21.29.36, 172.67.171.76, 2606:4700:3034::6815:1d24, ...\n",
      "Connecting to yann.lecun.com (yann.lecun.com)|104.21.29.36|:80... connected.\n",
      "HTTP request sent, awaiting response... 200 OK\n",
      "Length: 9912422 (9.5M) [application/x-gzip]\n",
      "Saving to: ‘samples/train-images-idx3-ubyte.gz’\n",
      "\n",
      "train-images-idx3-u 100%[===================>]   9.45M  --.-KB/s    in 0.1s    \n",
      "\n",
      "2021-12-03 14:52:28 (81.3 MB/s) - ‘samples/train-images-idx3-ubyte.gz’ saved [9912422/9912422]\n",
      "\n",
      "--2021-12-03 14:52:28--  http://yann.lecun.com/exdb/mnist/train-labels-idx1-ubyte.gz\n",
      "Resolving yann.lecun.com (yann.lecun.com)... 104.21.29.36, 172.67.171.76, 2606:4700:3034::6815:1d24, ...\n",
      "Connecting to yann.lecun.com (yann.lecun.com)|104.21.29.36|:80... connected.\n",
      "HTTP request sent, awaiting response... 200 OK\n",
      "Length: 28881 (28K) [application/x-gzip]\n",
      "Saving to: ‘samples/train-labels-idx1-ubyte.gz’\n",
      "\n",
      "train-labels-idx1-u 100%[===================>]  28.20K  --.-KB/s    in 0s      \n",
      "\n",
      "2021-12-03 14:52:28 (259 MB/s) - ‘samples/train-labels-idx1-ubyte.gz’ saved [28881/28881]\n",
      "\n",
      "--2021-12-03 14:52:28--  http://yann.lecun.com/exdb/mnist/t10k-images-idx3-ubyte.gz\n",
      "Resolving yann.lecun.com (yann.lecun.com)... 104.21.29.36, 172.67.171.76, 2606:4700:3034::6815:1d24, ...\n",
      "Connecting to yann.lecun.com (yann.lecun.com)|104.21.29.36|:80... connected.\n",
      "HTTP request sent, awaiting response... 200 OK\n",
      "Length: 1648877 (1.6M) [application/x-gzip]\n",
      "Saving to: ‘samples/t10k-images-idx3-ubyte.gz’\n",
      "\n",
      "t10k-images-idx3-ub 100%[===================>]   1.57M  --.-KB/s    in 0.07s   \n",
      "\n",
      "2021-12-03 14:52:29 (23.3 MB/s) - ‘samples/t10k-images-idx3-ubyte.gz’ saved [1648877/1648877]\n",
      "\n",
      "--2021-12-03 14:52:29--  http://yann.lecun.com/exdb/mnist/t10k-labels-idx1-ubyte.gz\n",
      "Resolving yann.lecun.com (yann.lecun.com)... 104.21.29.36, 172.67.171.76, 2606:4700:3034::6815:1d24, ...\n",
      "Connecting to yann.lecun.com (yann.lecun.com)|104.21.29.36|:80... connected.\n",
      "HTTP request sent, awaiting response... 200 OK\n",
      "Length: 4542 (4.4K) [application/x-gzip]\n",
      "Saving to: ‘samples/t10k-labels-idx1-ubyte.gz’\n",
      "\n",
      "t10k-labels-idx1-ub 100%[===================>]   4.44K  --.-KB/s    in 0s      \n",
      "\n",
      "2021-12-03 14:52:29 (355 MB/s) - ‘samples/t10k-labels-idx1-ubyte.gz’ saved [4542/4542]\n",
      "\n"
     ]
    }
   ],
   "source": [
    "!pip install python-mnist\n",
    "!rm -rf samples\n",
    "!mkdir samples\n",
    "!wget http://yann.lecun.com/exdb/mnist/train-images-idx3-ubyte.gz -P samples/\n",
    "!gunzip samples/train-images-idx3-ubyte.gz\n",
    "!wget http://yann.lecun.com/exdb/mnist/train-labels-idx1-ubyte.gz -P samples/\n",
    "!gunzip samples/train-labels-idx1-ubyte.gz\n",
    "!wget http://yann.lecun.com/exdb/mnist/t10k-images-idx3-ubyte.gz -P samples/\n",
    "!gunzip samples/t10k-images-idx3-ubyte.gz\n",
    "!wget http://yann.lecun.com/exdb/mnist/t10k-labels-idx1-ubyte.gz -P samples/\n",
    "!gunzip samples/t10k-labels-idx1-ubyte.gz"
   ]
  },
  {
   "cell_type": "code",
   "execution_count": 85,
   "metadata": {
    "executionInfo": {
     "elapsed": 10,
     "status": "ok",
     "timestamp": 1638543150134,
     "user": {
      "displayName": "Rutvij Menavlikar",
      "photoUrl": "https://lh3.googleusercontent.com/a-/AOh14GjO2RSiL3jz2Zq0vBys8gaL7l3a2C6KDAdeCoTIpA=s64",
      "userId": "00271061997226666130"
     },
     "user_tz": -330
    },
    "id": "0XjsnEzVI9q1"
   },
   "outputs": [],
   "source": [
    "# Import Relevant Packages\n",
    "from sklearn.svm import SVC\n",
    "import numpy as np\n",
    "from mnist.loader import MNIST"
   ]
  },
  {
   "cell_type": "code",
   "execution_count": 91,
   "metadata": {
    "colab": {
     "base_uri": "https://localhost:8080/"
    },
    "executionInfo": {
     "elapsed": 6533,
     "status": "ok",
     "timestamp": 1638543222569,
     "user": {
      "displayName": "Rutvij Menavlikar",
      "photoUrl": "https://lh3.googleusercontent.com/a-/AOh14GjO2RSiL3jz2Zq0vBys8gaL7l3a2C6KDAdeCoTIpA=s64",
      "userId": "00271061997226666130"
     },
     "user_tz": -330
    },
    "id": "WvXDgQXsI9q1",
    "outputId": "a9a285f8-1c89-436a-cbad-851a8686ba52"
   },
   "outputs": [
    {
     "name": "stdout",
     "output_type": "stream",
     "text": [
      "(6000, 784)\n",
      "(6000,)\n"
     ]
    }
   ],
   "source": [
    "mndata = MNIST('samples')\n",
    "\n",
    "# Load training dataset\n",
    "images, labels = mndata.load_training()\n",
    "l,d = len(labels), len(images[0])\n",
    "images_train = np.array(images)[:l//10]\n",
    "# [:l//100,:d//10]\n",
    "labels_train = np.array(labels)[:l//10]\n",
    "# [:l//100]\n",
    "\n",
    "print(images_train.shape)\n",
    "print(labels_train.shape)"
   ]
  },
  {
   "cell_type": "code",
   "execution_count": 92,
   "metadata": {
    "colab": {
     "base_uri": "https://localhost:8080/"
    },
    "executionInfo": {
     "elapsed": 690,
     "status": "ok",
     "timestamp": 1638543223243,
     "user": {
      "displayName": "Rutvij Menavlikar",
      "photoUrl": "https://lh3.googleusercontent.com/a-/AOh14GjO2RSiL3jz2Zq0vBys8gaL7l3a2C6KDAdeCoTIpA=s64",
      "userId": "00271061997226666130"
     },
     "user_tz": -330
    },
    "id": "pqZ5EG36I9q2",
    "outputId": "17cbf346-b666-4a78-9a24-3f39165e54b8"
   },
   "outputs": [
    {
     "name": "stdout",
     "output_type": "stream",
     "text": [
      "(1000, 784)\n",
      "(1000,)\n"
     ]
    }
   ],
   "source": [
    "# Load testing dataset\n",
    "images, labels = mndata.load_testing()\n",
    "l,d = len(labels), len(images[0])\n",
    "images_test = np.array(images)[:l//10]\n",
    "# [:l//100,:d//10]\n",
    "labels_test = np.array(labels)[:l//10]\n",
    "# [:l//100]\n",
    "\n",
    "print(images_test.shape)\n",
    "print(labels_test.shape)"
   ]
  },
  {
   "cell_type": "markdown",
   "metadata": {
    "id": "N8F6VkaLI9q3"
   },
   "source": [
    "- Tweak different parameters like the C Parameter and gamma parameter of the Linear SVM and report the results.\n",
    "- Experiment different kernels for classification and report the results.\n",
    "\n",
    "Report accuracy score, F1-score, Confusion matrix and any other metrics you feel useful."
   ]
  },
  {
   "cell_type": "code",
   "execution_count": 93,
   "metadata": {
    "executionInfo": {
     "elapsed": 429,
     "status": "ok",
     "timestamp": 1638543229282,
     "user": {
      "displayName": "Rutvij Menavlikar",
      "photoUrl": "https://lh3.googleusercontent.com/a-/AOh14GjO2RSiL3jz2Zq0vBys8gaL7l3a2C6KDAdeCoTIpA=s64",
      "userId": "00271061997226666130"
     },
     "user_tz": -330
    },
    "id": "CztJyLokI9q3"
   },
   "outputs": [],
   "source": [
    "X_train, X_test, y_train, y_test = images_train, images_test, labels_train, labels_test"
   ]
  },
  {
   "cell_type": "code",
   "execution_count": 94,
   "metadata": {
    "colab": {
     "base_uri": "https://localhost:8080/",
     "height": 302
    },
    "executionInfo": {
     "elapsed": 50510,
     "status": "ok",
     "timestamp": 1638543280240,
     "user": {
      "displayName": "Rutvij Menavlikar",
      "photoUrl": "https://lh3.googleusercontent.com/a-/AOh14GjO2RSiL3jz2Zq0vBys8gaL7l3a2C6KDAdeCoTIpA=s64",
      "userId": "00271061997226666130"
     },
     "user_tz": -330
    },
    "id": "rMZHDbbiXf_W",
    "outputId": "daa004cd-63cf-4848-e163-7bbac022cc15"
   },
   "outputs": [
    {
     "name": "stdout",
     "output_type": "stream",
     "text": [
      "CPU times: user 49.8 s, sys: 46.7 ms, total: 49.8 s\n",
      "Wall time: 49.6 s\n"
     ]
    },
    {
     "data": {
      "image/png": "[encoded data removed]",
      "text/plain": [
       "<Figure size 432x288 with 1 Axes>"
      ]
     },
     "metadata": {
      "needs_background": "light"
     },
     "output_type": "display_data"
    }
   ],
   "source": [
    "%%time\n",
    "from sklearn.metrics import accuracy_score\n",
    "ax = list(range(1, 10))\n",
    "val = []\n",
    "for c in ax:\n",
    "    SVM = SVC(C=c, kernel = 'rbf')\n",
    "    SVM.fit(X_train, y_train)\n",
    "    val.append(accuracy_score(y_test, SVM.predict(X_test))*100)\n",
    "plt.plot(ax, val)"
   ]
  },
  {
   "cell_type": "code",
   "execution_count": 95,
   "metadata": {
    "colab": {
     "base_uri": "https://localhost:8080/"
    },
    "executionInfo": {
     "elapsed": 11786,
     "status": "ok",
     "timestamp": 1638543292008,
     "user": {
      "displayName": "Rutvij Menavlikar",
      "photoUrl": "https://lh3.googleusercontent.com/a-/AOh14GjO2RSiL3jz2Zq0vBys8gaL7l3a2C6KDAdeCoTIpA=s64",
      "userId": "00271061997226666130"
     },
     "user_tz": -330
    },
    "id": "qb6cAE8EYw8F",
    "outputId": "a5866b92-6a8b-4cfe-ec17-3eccd97f976a"
   },
   "outputs": [
    {
     "name": "stdout",
     "output_type": "stream",
     "text": [
      "Accuracy is 88.8%\n",
      "Kernel is linear\n",
      "Accuracy is 92.5%\n",
      "Kernel is poly\n",
      "Accuracy is 94.69999999999999%\n",
      "Kernel is rbf\n"
     ]
    }
   ],
   "source": [
    "for kernel in (\"linear\", \"poly\", \"rbf\"):\n",
    "    SVM = SVC(C=10, kernel = kernel)\n",
    "    SVM.fit(X_train, y_train)\n",
    "    print(f\"Accuracy is {100*accuracy_score(y_test, SVM.predict(X_test))}%\")\n",
    "    print(f\"Kernel is {kernel}\")"
   ]
  }
 ],
 "metadata": {
  "colab": {
   "collapsed_sections": [],
   "name": "SVM.ipynb",
   "provenance": []
  },
  "kernelspec": {
   "display_name": "Python 3",
   "language": "python",
   "name": "python3"
  },
  "language_info": {
   "codemirror_mode": {
    "name": "ipython",
    "version": 3
   },
   "file_extension": ".py",
   "mimetype": "text/x-python",
   "name": "python",
   "nbconvert_exporter": "python",
   "pygments_lexer": "ipython3",
   "version": "3.8.8"
  }
 },
 "nbformat": 4,
 "nbformat_minor": 1
}
