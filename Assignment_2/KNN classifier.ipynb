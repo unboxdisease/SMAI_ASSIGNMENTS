{
 "cells": [
  {
   "cell_type": "markdown",
   "id": "186be3d3",
   "metadata": {},
   "source": [
    "# KNN Classifier"
   ]
  },
  {
   "cell_type": "markdown",
   "id": "edeabff5",
   "metadata": {},
   "source": [
    "### Dataset"
   ]
  },
  {
   "cell_type": "code",
   "execution_count": 1,
   "id": "69cac090",
   "metadata": {},
   "outputs": [],
   "source": [
    "import numpy as np\n",
    "import pandas as pd\n",
    "from sklearn.model_selection import train_test_split"
   ]
  },
  {
   "cell_type": "code",
   "execution_count": 2,
   "id": "e0fa6912",
   "metadata": {},
   "outputs": [],
   "source": [
    "#Load data\n",
    "iris = pd.read_csv('Iris.csv')\n",
    "#data cleaning\n",
    "iris.drop(columns=\"Id\",inplace=True)"
   ]
  },
  {
   "cell_type": "code",
   "execution_count": 5,
   "id": "1ca8135b",
   "metadata": {},
   "outputs": [
    {
     "name": "stdout",
     "output_type": "stream",
     "text": [
      "For k=1\n",
      "The classifier has 100.0% accuracy\n",
      "\n",
      "For k=2\n",
      "The classifier has 96.67% accuracy\n",
      "\n",
      "For k=3\n",
      "The classifier has 96.67% accuracy\n",
      "\n",
      "For k=4\n",
      "The classifier has 100.0% accuracy\n",
      "\n",
      "For k=5\n",
      "The classifier has 96.67% accuracy\n",
      "\n",
      "For k=6\n",
      "The classifier has 100.0% accuracy\n",
      "\n",
      "For k=7\n",
      "The classifier has 100.0% accuracy\n",
      "\n",
      "For k=8\n",
      "The classifier has 100.0% accuracy\n",
      "\n",
      "For k=9\n",
      "The classifier has 100.0% accuracy\n",
      "\n",
      "For k=10\n",
      "The classifier has 100.0% accuracy\n",
      "\n",
      "For k=11\n",
      "The classifier has 100.0% accuracy\n",
      "\n",
      "For k=12\n",
      "The classifier has 100.0% accuracy\n",
      "\n",
      "For k=13\n",
      "The classifier has 100.0% accuracy\n",
      "\n",
      "For k=14\n",
      "The classifier has 100.0% accuracy\n",
      "\n",
      "For k=15\n",
      "The classifier has 100.0% accuracy\n",
      "\n"
     ]
    }
   ],
   "source": [
    "#features and labels\n",
    "X=iris.iloc[:,0:4].values\n",
    "y=iris.iloc[:,4].values\n",
    "\n",
    "#Train and Test split\n",
    "X_train,X_test,Y_train,Y_test=train_test_split(X,y,test_size=0.2,random_state=0)\n",
    "\n",
    "def dist(p1,p2):\n",
    "    return np.sum((p1-p2)**2)**0.5\n",
    "\n",
    "def k_nearest_neighbour(data_pts,data_labels,x,k=5):\n",
    "  label_dict = {}\n",
    "  for i in range(data_pts.shape[0]):\n",
    "    label_dict[tuple(data_pts[i])] = data_labels[i]\n",
    "  y = []\n",
    "  for i in range(x.shape[0]):\n",
    "    if tuple(x[i]) in label_dict:\n",
    "      y.append(label_dict[tuple(x[i])])\n",
    "      continue\n",
    "    knl = np.array([label_dict[pt] for pt in sorted(label_dict.keys(),key=lambda r: dist(x[i],np.array(r)))[:k]])\n",
    "    labels,counts = np.unique(knl,return_counts=True)\n",
    "    y.append(labels[np.argmax(counts)])\n",
    "  return y\n",
    "\n",
    "\n",
    "for j in range(1,16):\n",
    "  Y_pred = k_nearest_neighbour(X_train,Y_train,X_test,k=j)\n",
    "  correct = 0\n",
    "  for i in range(Y_test.shape[0]):\n",
    "    if Y_pred[i] == Y_test[i]:\n",
    "      correct += 1\n",
    "  accurancy = correct / Y_test.shape[0]\n",
    "  print(f\"For k={j}\\nThe classifier has {round(accurancy*100,2)}% accuracy\\n\")"
   ]
  },
  {
   "cell_type": "code",
   "execution_count": null,
   "id": "6ca8c19d",
   "metadata": {},
   "outputs": [],
   "source": []
  }
 ],
 "metadata": {
  "kernelspec": {
   "display_name": "Python 3",
   "language": "python",
   "name": "python3"
  },
  "language_info": {
   "codemirror_mode": {
    "name": "ipython",
    "version": 3
   },
   "file_extension": ".py",
   "mimetype": "text/x-python",
   "name": "python",
   "nbconvert_exporter": "python",
   "pygments_lexer": "ipython3",
   "version": "3.8.8"
  }
 },
 "nbformat": 4,
 "nbformat_minor": 5
}
